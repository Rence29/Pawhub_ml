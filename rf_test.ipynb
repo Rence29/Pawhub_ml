{
  "nbformat": 4,
  "nbformat_minor": 0,
  "metadata": {
    "colab": {
      "provenance": []
    },
    "kernelspec": {
      "name": "python3",
      "display_name": "Python 3"
    },
    "language_info": {
      "name": "python"
    }
  },
  "cells": [
    {
      "cell_type": "code",
      "execution_count": 5,
      "metadata": {
        "id": "9-pM7JgRXLdS"
      },
      "outputs": [],
      "source": [
        "import pandas as pd\n",
        "df = pd.read_csv('rf_dataset.csv')"
      ]
    },
    {
      "cell_type": "code",
      "source": [
        "from sklearn.model_selection import train_test_split\n",
        "X = df.drop('match_category', axis=1) # Replace 'Your_Target_Column' with the name of the column you want to predict\n",
        "y = df['match_category']\n",
        "X_train, X_test, y_train, y_test = train_test_split(X, y, test_size=0.2, random_state=42) # 0.2 means 20% for testing"
      ],
      "metadata": {
        "id": "X49T8-2LXVvP"
      },
      "execution_count": 6,
      "outputs": []
    },
    {
      "cell_type": "code",
      "source": [
        "import pandas as pd\n",
        "from sklearn.model_selection import train_test_split\n",
        "from sklearn.preprocessing import OneHotEncoder, LabelEncoder\n",
        "from sklearn.compose import ColumnTransformer\n",
        "from sklearn.pipeline import Pipeline\n",
        "from sklearn.ensemble import RandomForestClassifier\n",
        "from sklearn.metrics import confusion_matrix, accuracy_score, precision_score, recall_score, f1_score, classification_report\n",
        "import seaborn as sns\n",
        "import matplotlib.pyplot as plt\n",
        "\n",
        "# 1. Load the dataset\n",
        "df = pd.read_csv('rf_dataset.csv')\n",
        "\n",
        "# 2. Define features (X) and target (y)\n",
        "# 'match_category' is your target variable\n",
        "X = df.drop('match_category', axis=1) # All columns except 'match_category' are features\n",
        "y = df['match_category']             # 'match_category' is the target variable\n",
        "\n",
        "# 3. Identify categorical and numerical features\n",
        "# Based on inspection of rf_dataset.csv\n",
        "categorical_features = ['adopter_id', 'house_type', 'family_composition', 'lifestyle', 'pet_experience', 'dog_size', 'dog_behavior', 'health_condition']\n",
        "numerical_features = ['dog_id', 'dog_age'] # Although not explicitly used in preprocessor, good to list\n",
        "\n",
        "# 4. Create a preprocessor for One-Hot Encoding categorical features\n",
        "# 'remainder=\"passthrough\"' ensures that numerical columns are kept as they are.\n",
        "preprocessor = ColumnTransformer(\n",
        "    transformers=[\n",
        "        ('cat', OneHotEncoder(handle_unknown='ignore'), categorical_features)\n",
        "    ],\n",
        "    remainder='passthrough'\n",
        ")\n",
        "\n",
        "# 5. Split data into training and testing sets\n",
        "X_train, X_test, y_train, y_test = train_test_split(X, y, test_size=0.2, random_state=42)\n",
        "\n",
        "# 6. Apply Label Encoding to the target variable (y)\n",
        "# RandomForestClassifier in scikit-learn works best with numerical labels for y\n",
        "le = LabelEncoder()\n",
        "y_train_encoded = le.fit_transform(y_train)\n",
        "y_test_encoded = le.transform(y_test)\n",
        "\n",
        "# 7. Create a pipeline for preprocessing and model training\n",
        "# This ensures that encoding is applied consistently to both training and test data\n",
        "model_pipeline = Pipeline(steps=[\n",
        "    ('preprocessor', preprocessor),\n",
        "    ('classifier', RandomForestClassifier(random_state=42))\n",
        "])\n",
        "\n",
        "# 8. Train the Random Forest model with the pipeline\n",
        "model_pipeline.fit(X_train, y_train_encoded) # Use original X_train, pipeline handles encoding\n",
        "\n",
        "print(\"Random Forest model trained successfully after encoding!\")\n",
        "\n",
        "# 9. Make predictions\n",
        "y_pred_encoded = model_pipeline.predict(X_test)\n",
        "\n",
        "# 10. Evaluate the model (Confusion Matrix, Metrics of Evaluation, Performance Metrics)\n",
        "print(\"\\n--- Model Evaluation ---\")\n",
        "\n",
        "# Confusion Matrix\n",
        "cm = confusion_matrix(y_test_encoded, y_pred_encoded)\n",
        "print(\"\\nConfusion Matrix:\")\n",
        "print(cm)\n",
        "\n",
        "# Plotting Confusion Matrix\n",
        "plt.figure(figsize=(8, 6))\n",
        "sns.heatmap(cm, annot=True, fmt='d', cmap='Blues',\n",
        "            xticklabels=le.classes_, yticklabels=le.classes_) # Use original class names for labels\n",
        "plt.xlabel('Predicted Label')\n",
        "plt.ylabel('True Label')\n",
        "plt.title('Confusion Matrix')\n",
        "plt.show()\n",
        "\n",
        "# Classification Report (includes Precision, Recall, F1-Score, Accuracy)\n",
        "print(\"\\nClassification Report:\")\n",
        "print(classification_report(y_test_encoded, y_pred_encoded, target_names=le.classes_))\n",
        "\n",
        "# Individual Metrics\n",
        "accuracy = accuracy_score(y_test_encoded, y_pred_encoded)\n",
        "print(f\"Accuracy: {accuracy:.2f}\")\n",
        "\n",
        "# You can also perform Hyperparameter Tuning using RandomizedSearchCV or GridSearchCV\n",
        "# on this pipeline. Here's an example structure for RandomizedSearchCV:\n",
        "print(\"\\n--- Hyperparameter Tuning Example (Optional) ---\")\n",
        "from sklearn.model_selection import RandomizedSearchCV\n",
        "from scipy.stats import randint\n",
        "\n",
        "param_dist = {\n",
        "    'classifier__n_estimators': randint(50, 500),\n",
        "    'classifier__max_depth': randint(40, 50),\n",
        "    'classifier__min_samples_split': randint(20, 40),\n",
        "    'classifier__min_samples_leaf': randint(20, 30)\n",
        "}\n",
        "\n",
        "\n",
        "# Use random search on the pipeline\n",
        "rand_search = RandomizedSearchCV(model_pipeline,\n",
        "                                 param_distributions=param_dist,\n",
        "                                 n_iter=10,\n",
        "                                 cv=5,\n",
        "                                 random_state=42,\n",
        "                                 n_jobs=-1)\n",
        "\n",
        "rand_search.fit(X_train, y_train_encoded)\n",
        "\n",
        "best_model = rand_search.best_estimator_\n",
        "print('Best hyperparameters found during tuning:', rand_search.best_params_)\n",
        "\n",
        "# Evaluate the best model\n",
        "y_pred_tuned_encoded = best_model.predict(X_test)\n",
        "print(f\"\\nAccuracy after hyperparameter tuning: {accuracy_score(y_test_encoded, y_pred_tuned_encoded):.2f}\")\n",
        "print(\"Classification Report after tuning:\\n\", classification_report(y_test_encoded, y_pred_tuned_encoded, target_names=le.classes_))"
      ],
      "metadata": {
        "colab": {
          "base_uri": "https://localhost:8080/",
          "height": 1000
        },
        "id": "PqENOYsxYIil",
        "outputId": "66683d98-b440-4f67-d6ac-b396efdd4d47"
      },
      "execution_count": 22,
      "outputs": [
        {
          "output_type": "stream",
          "name": "stdout",
          "text": [
            "Random Forest model trained successfully after encoding!\n",
            "\n",
            "--- Model Evaluation ---\n",
            "\n",
            "Confusion Matrix:\n",
            "[[145   0]\n",
            " [  0 155]]\n"
          ]
        },
        {
          "output_type": "display_data",
          "data": {
            "text/plain": [
              "<Figure size 800x600 with 2 Axes>"
            ],
            "image/png": "[encoded data removed]"
          },
          "metadata": {}
        },
        {
          "output_type": "stream",
          "name": "stdout",
          "text": [
            "\n",
            "Classification Report:\n",
            "              precision    recall  f1-score   support\n",
            "\n",
            "   Bad Match       1.00      1.00      1.00       145\n",
            "  Good Match       1.00      1.00      1.00       155\n",
            "\n",
            "    accuracy                           1.00       300\n",
            "   macro avg       1.00      1.00      1.00       300\n",
            "weighted avg       1.00      1.00      1.00       300\n",
            "\n",
            "Accuracy: 1.00\n",
            "\n",
            "--- Hyperparameter Tuning Example (Optional) ---\n",
            "Best hyperparameters found during tuning: {'classifier__max_depth': 45, 'classifier__min_samples_leaf': 21, 'classifier__min_samples_split': 20, 'classifier__n_estimators': 363}\n",
            "\n",
            "Accuracy after hyperparameter tuning: 0.97\n",
            "Classification Report after tuning:\n",
            "               precision    recall  f1-score   support\n",
            "\n",
            "   Bad Match       0.97      0.97      0.97       145\n",
            "  Good Match       0.97      0.97      0.97       155\n",
            "\n",
            "    accuracy                           0.97       300\n",
            "   macro avg       0.97      0.97      0.97       300\n",
            "weighted avg       0.97      0.97      0.97       300\n",
            "\n"
          ]
        }
      ]
    }
  ]
}